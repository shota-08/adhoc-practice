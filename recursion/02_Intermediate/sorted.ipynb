{
 "cells": [
  {
   "cell_type": "markdown",
   "metadata": {},
   "source": [
    "- sort関数の実装"
   ]
  },
  {
   "cell_type": "code",
   "execution_count": 2,
   "metadata": {},
   "outputs": [
    {
     "name": "stdout",
     "output_type": "stream",
     "text": [
      "[34, 4546, 32, 3, 2, 8, 6, 76, 56, 45, 34, 566, 1]\n",
      "[1, 2, 3, 6, 8, 32, 34, 34, 45, 56, 76, 566, 4546]\n",
      "[34, 4546, 32, 3, 2, 8, 6, 76, 56, 45, 34, 566, 1]\n",
      "[1, 2, 3, 6, 8, 32, 34, 34, 45, 56, 76, 566, 4546]\n"
     ]
    }
   ],
   "source": [
    "arr = [34,4546,32,3,2,8,6,76,56,45,34,566,1]\n",
    "print(arr)\n",
    "\n",
    "# sortedは状態を変更しません。ソートされた配列を返します。\n",
    "print(sorted(arr))\n",
    "print(arr)\n",
    "\n",
    "# sortメソッドは状態を更新します。配列をソートします。\n",
    "arr.sort()\n",
    "print(arr)"
   ]
  },
  {
   "cell_type": "code",
   "execution_count": 7,
   "metadata": {},
   "outputs": [
    {
     "data": {
      "text/plain": [
       "[1, 2, 3, 6, 8, 32, 34, 34, 45, 56, 76, 566, 4546]"
      ]
     },
     "execution_count": 7,
     "metadata": {},
     "output_type": "execute_result"
    }
   ],
   "source": [
    "# selection sort\n",
    "\n",
    "def selectionSort(numlist):\n",
    "    n = len(numlist)\n",
    "    for i in range(n):\n",
    "        # i番目の値を暫定的に最小値とする\n",
    "        minIndex = i\n",
    "        # i番目より後ろから最小値を探す\n",
    "        for j in range(i + 1, n):\n",
    "            if numlist[j] <= numlist[minIndex]:\n",
    "                minIndex = j\n",
    "        # in-placeで入れ替え\n",
    "        temp = numlist[i]\n",
    "        numlist[i] = numlist[minIndex]\n",
    "        numlist[minIndex] = temp\n",
    "\n",
    "arr = [34,4546,32,3,2,8,6,76,56,45,34,566,1]\n",
    "selectionSort(arr)\n",
    "arr"
   ]
  },
  {
   "cell_type": "code",
   "execution_count": 10,
   "metadata": {},
   "outputs": [
    {
     "name": "stdout",
     "output_type": "stream",
     "text": [
      "[34, 4546, 32, 3, 2, 8, 6, 76, 56, 45, 34, 566, 1]\n",
      "[1, 2, 3, 6, 8, 32, 34, 34, 45, 56, 76, 566, 4546]\n"
     ]
    }
   ],
   "source": [
    "# insertion sort\n",
    "def insertionSort(arrList):\n",
    "    n = len(arrList)\n",
    "    for i in range(n):\n",
    "        currentValue = arrList[i]\n",
    "        # currentValueの左側を探索、挿入できる個所を探索\n",
    "        for j in range(i-1, -1, -1):\n",
    "            # currentValueが小さい場合、値を入れ替え\n",
    "            if currentValue <= arrList[j]:\n",
    "                arrList[j+1] = arrList[j]\n",
    "                arrList[j] = currentValue\n",
    "            else:\n",
    "                break\n",
    "\n",
    "arr = [34,4546,32,3,2,8,6,76,56,45,34,566,1]\n",
    "print(arr)\n",
    "\n",
    "insertionSort(arr)\n",
    "print(arr)"
   ]
  },
  {
   "cell_type": "code",
   "execution_count": 6,
   "metadata": {},
   "outputs": [
    {
     "data": {
      "text/plain": [
       "3"
      ]
     },
     "execution_count": 6,
     "metadata": {},
     "output_type": "execute_result"
    }
   ],
   "source": [
    "arr = [34,34,4546,32,3,2,8,6,76,56,45,34,566,1]\n",
    "\n",
    "a = arr.index(32)\n",
    "a"
   ]
  },
  {
   "cell_type": "code",
   "execution_count": null,
   "metadata": {},
   "outputs": [],
   "source": []
  }
 ],
 "metadata": {
  "kernelspec": {
   "display_name": "Python 3",
   "language": "python",
   "name": "python3"
  },
  "language_info": {
   "codemirror_mode": {
    "name": "ipython",
    "version": 3
   },
   "file_extension": ".py",
   "mimetype": "text/x-python",
   "name": "python",
   "nbconvert_exporter": "python",
   "pygments_lexer": "ipython3",
   "version": "3.11.4"
  }
 },
 "nbformat": 4,
 "nbformat_minor": 2
}
