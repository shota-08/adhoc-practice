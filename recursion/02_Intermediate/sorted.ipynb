{
 "cells": [
  {
   "cell_type": "markdown",
   "metadata": {},
   "source": [
    "- sort関数の実装"
   ]
  },
  {
   "cell_type": "code",
   "execution_count": 2,
   "metadata": {},
   "outputs": [
    {
     "name": "stdout",
     "output_type": "stream",
     "text": [
      "[34, 4546, 32, 3, 2, 8, 6, 76, 56, 45, 34, 566, 1]\n",
      "[1, 2, 3, 6, 8, 32, 34, 34, 45, 56, 76, 566, 4546]\n",
      "[34, 4546, 32, 3, 2, 8, 6, 76, 56, 45, 34, 566, 1]\n",
      "[1, 2, 3, 6, 8, 32, 34, 34, 45, 56, 76, 566, 4546]\n"
     ]
    }
   ],
   "source": [
    "arr = [34,4546,32,3,2,8,6,76,56,45,34,566,1]\n",
    "print(arr)\n",
    "\n",
    "# sortedは状態を変更しません。ソートされた配列を返します。\n",
    "print(sorted(arr))\n",
    "print(arr)\n",
    "\n",
    "# sortメソッドは状態を更新します。配列をソートします。\n",
    "arr.sort()\n",
    "print(arr)"
   ]
  },
  {
   "cell_type": "code",
   "execution_count": null,
   "metadata": {},
   "outputs": [],
   "source": []
  }
 ],
 "metadata": {
  "kernelspec": {
   "display_name": "Python 3",
   "language": "python",
   "name": "python3"
  },
  "language_info": {
   "name": "python",
   "version": "3.9.13"
  }
 },
 "nbformat": 4,
 "nbformat_minor": 2
}
