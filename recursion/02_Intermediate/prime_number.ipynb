{
 "cells": [
  {
   "cell_type": "code",
   "execution_count": 36,
   "metadata": {},
   "outputs": [
    {
     "data": {
      "text/plain": [
       "2.5"
      ]
     },
     "execution_count": 36,
     "metadata": {},
     "output_type": "execute_result"
    }
   ],
   "source": [
    "def isPrime(number):\n",
    "\tif number == 1: return None\n",
    "    # 関数を完成させてくださ\n",
    "\tfor i in range(2, int(number ** 0.5) + 1):\n",
    "\t\tif number % i == 0:\n",
    "\t\t\treturn None\n",
    "\treturn number\n",
    "\n",
    "isPrime(2)"
   ]
  },
  {
   "cell_type": "code",
   "execution_count": 17,
   "metadata": {},
   "outputs": [
    {
     "name": "stdout",
     "output_type": "stream",
     "text": [
      "hello\n",
      "hello\n"
     ]
    }
   ],
   "source": [
    "for i in range(2, int(9 ** 0.5) + 1):\n",
    "    print(\"hello\")"
   ]
  },
  {
   "cell_type": "code",
   "execution_count": 29,
   "metadata": {},
   "outputs": [
    {
     "data": {
      "text/plain": [
       "[2, 3, 0, 4, 5, 0, 6, 7, 0, 8, 0, 9, 0, 10, 11, 0, 0, 12, 13, 0, 14, 0, 15]"
      ]
     },
     "execution_count": 29,
     "metadata": {},
     "output_type": "execute_result"
    }
   ],
   "source": [
    "def sumOfAllPrimes(n):\n",
    "    li = []\n",
    "    for i in range(2, n + 1):\n",
    "        for j in range(2, int(i**0.5)+1):\n",
    "            if i % j == 0:\n",
    "                li.append(0)\n",
    "        li.append(i)\n",
    "    return li\n",
    "\n",
    "sumOfAllPrimes(15)"
   ]
  },
  {
   "cell_type": "code",
   "execution_count": 51,
   "metadata": {},
   "outputs": [
    {
     "data": {
      "text/plain": [
       "'11101010'"
      ]
     },
     "execution_count": 51,
     "metadata": {},
     "output_type": "execute_result"
    }
   ],
   "source": [
    "binary = \"000111101010\"\n",
    "binary[4:]"
   ]
  },
  {
   "cell_type": "code",
   "execution_count": 46,
   "metadata": {},
   "outputs": [
    {
     "data": {
      "text/plain": [
       "'00000111'"
      ]
     },
     "execution_count": 46,
     "metadata": {},
     "output_type": "execute_result"
    }
   ],
   "source": [
    "\n",
    "binary = \"000111\"\n",
    "binary.zfill((len(binary)//4+1)*4)"
   ]
  },
  {
   "cell_type": "code",
   "execution_count": 56,
   "metadata": {},
   "outputs": [
    {
     "data": {
      "text/plain": [
       "''"
      ]
     },
     "execution_count": 56,
     "metadata": {},
     "output_type": "execute_result"
    }
   ],
   "source": [
    "binary = \"0001\"\n",
    "binary[4:]"
   ]
  },
  {
   "cell_type": "code",
   "execution_count": 57,
   "metadata": {},
   "outputs": [
    {
     "data": {
      "text/plain": [
       "'1'"
      ]
     },
     "execution_count": 57,
     "metadata": {},
     "output_type": "execute_result"
    }
   ],
   "source": [
    "def twosComplement(bits):\n",
    "    c1 = \"\"\n",
    "    for i in bits:\n",
    "        if i == \"0\":\n",
    "            c1 = \"1\" + c1\n",
    "        else:\n",
    "            c1 = \"0\" + c1\n",
    "    temp = 0\n",
    "    for i, num in enumerate(c1):\n",
    "        temp += int(num) * 2 ** i\n",
    "    c2 = temp + 1\n",
    "    binary = \"\"\n",
    "    while c2 >= 0:\n",
    "        current_number = c2 % 2\n",
    "        binary = str(current_number) + binary\n",
    "        c2 = c2 // 2\n",
    "        if c2 == 0: break\n",
    "    return binary\n",
    "\n",
    "twosComplement(\"11111111\")"
   ]
  },
  {
   "cell_type": "code",
   "execution_count": null,
   "metadata": {},
   "outputs": [],
   "source": []
  }
 ],
 "metadata": {
  "kernelspec": {
   "display_name": ".venv",
   "language": "python",
   "name": "python3"
  },
  "language_info": {
   "codemirror_mode": {
    "name": "ipython",
    "version": 3
   },
   "file_extension": ".py",
   "mimetype": "text/x-python",
   "name": "python",
   "nbconvert_exporter": "python",
   "pygments_lexer": "ipython3",
   "version": "3.11.4"
  }
 },
 "nbformat": 4,
 "nbformat_minor": 2
}
