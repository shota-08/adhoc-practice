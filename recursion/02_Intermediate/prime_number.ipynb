{
 "cells": [
  {
   "cell_type": "code",
   "execution_count": 36,
   "metadata": {},
   "outputs": [
    {
     "data": {
      "text/plain": [
       "2.5"
      ]
     },
     "execution_count": 36,
     "metadata": {},
     "output_type": "execute_result"
    }
   ],
   "source": [
    "def isPrime(number):\n",
    "\tif number == 1: return None\n",
    "    # 関数を完成させてくださ\n",
    "\tfor i in range(2, int(number ** 0.5) + 1):\n",
    "\t\tif number % i == 0:\n",
    "\t\t\treturn None\n",
    "\treturn number\n",
    "\n",
    "isPrime(2)"
   ]
  },
  {
   "cell_type": "code",
   "execution_count": 17,
   "metadata": {},
   "outputs": [
    {
     "name": "stdout",
     "output_type": "stream",
     "text": [
      "hello\n",
      "hello\n"
     ]
    }
   ],
   "source": [
    "for i in range(2, int(9 ** 0.5) + 1):\n",
    "    print(\"hello\")"
   ]
  },
  {
   "cell_type": "code",
   "execution_count": 29,
   "metadata": {},
   "outputs": [
    {
     "data": {
      "text/plain": [
       "[2, 3, 0, 4, 5, 0, 6, 7, 0, 8, 0, 9, 0, 10, 11, 0, 0, 12, 13, 0, 14, 0, 15]"
      ]
     },
     "execution_count": 29,
     "metadata": {},
     "output_type": "execute_result"
    }
   ],
   "source": [
    "def sumOfAllPrimes(n):\n",
    "    li = []\n",
    "    for i in range(2, n + 1):\n",
    "        for j in range(2, int(i**0.5)+1):\n",
    "            if i % j == 0:\n",
    "                li.append(0)\n",
    "        li.append(i)\n",
    "    return li\n",
    "\n",
    "sumOfAllPrimes(15)"
   ]
  },
  {
   "cell_type": "code",
   "execution_count": 51,
   "metadata": {},
   "outputs": [
    {
     "data": {
      "text/plain": [
       "'11101010'"
      ]
     },
     "execution_count": 51,
     "metadata": {},
     "output_type": "execute_result"
    }
   ],
   "source": [
    "binary = \"000111101010\"\n",
    "binary[4:]"
   ]
  },
  {
   "cell_type": "code",
   "execution_count": 46,
   "metadata": {},
   "outputs": [
    {
     "data": {
      "text/plain": [
       "'00000111'"
      ]
     },
     "execution_count": 46,
     "metadata": {},
     "output_type": "execute_result"
    }
   ],
   "source": [
    "\n",
    "binary = \"000111\"\n",
    "binary.zfill((len(binary)//4+1)*4)"
   ]
  },
  {
   "cell_type": "code",
   "execution_count": 56,
   "metadata": {},
   "outputs": [
    {
     "data": {
      "text/plain": [
       "''"
      ]
     },
     "execution_count": 56,
     "metadata": {},
     "output_type": "execute_result"
    }
   ],
   "source": [
    "binary = \"0001\"\n",
    "binary[4:]"
   ]
  },
  {
   "cell_type": "code",
   "execution_count": 57,
   "metadata": {},
   "outputs": [
    {
     "data": {
      "text/plain": [
       "'1'"
      ]
     },
     "execution_count": 57,
     "metadata": {},
     "output_type": "execute_result"
    }
   ],
   "source": [
    "def twosComplement(bits):\n",
    "    c1 = \"\"\n",
    "    for i in bits:\n",
    "        if i == \"0\":\n",
    "            c1 = \"1\" + c1\n",
    "        else:\n",
    "            c1 = \"0\" + c1\n",
    "    temp = 0\n",
    "    for i, num in enumerate(c1):\n",
    "        temp += int(num) * 2 ** i\n",
    "    c2 = temp + 1\n",
    "    binary = \"\"\n",
    "    while c2 >= 0:\n",
    "        current_number = c2 % 2\n",
    "        binary = str(current_number) + binary\n",
    "        c2 = c2 // 2\n",
    "        if c2 == 0: break\n",
    "    return binary\n",
    "\n",
    "twosComplement(\"11111111\")"
   ]
  },
  {
   "cell_type": "code",
   "execution_count": 64,
   "metadata": {},
   "outputs": [
    {
     "data": {
      "text/plain": [
       "[5, 1, 2, 3, 4]"
      ]
     },
     "execution_count": 64,
     "metadata": {},
     "output_type": "execute_result"
    }
   ],
   "source": [
    "ids = [1,2,3,4,5]\n",
    "a = ids.pop(-1)\n",
    "ids.insert(0, a)\n",
    "ids"
   ]
  },
  {
   "cell_type": "code",
   "execution_count": 65,
   "metadata": {},
   "outputs": [
    {
     "ename": "IndexError",
     "evalue": "list index out of range",
     "output_type": "error",
     "traceback": [
      "\u001b[1;31m---------------------------------------------------------------------------\u001b[0m",
      "\u001b[1;31mIndexError\u001b[0m                                Traceback (most recent call last)",
      "Cell \u001b[1;32mIn[65], line 22\u001b[0m\n\u001b[0;32m     19\u001b[0m             \u001b[38;5;28;01mreturn\u001b[39;00m \u001b[38;5;28;01mFalse\u001b[39;00m\n\u001b[0;32m     20\u001b[0m     \u001b[38;5;28;01mreturn\u001b[39;00m \u001b[38;5;28;01mTrue\u001b[39;00m\n\u001b[1;32m---> 22\u001b[0m \u001b[43misMountain\u001b[49m\u001b[43m(\u001b[49m\u001b[43m[\u001b[49m\u001b[38;5;241;43m203\u001b[39;49m\u001b[43m,\u001b[49m\u001b[38;5;241;43m992\u001b[39;49m\u001b[43m,\u001b[49m\u001b[38;5;241;43m970\u001b[39;49m\u001b[43m,\u001b[49m\u001b[38;5;241;43m872\u001b[39;49m\u001b[43m,\u001b[49m\u001b[38;5;241;43m697\u001b[39;49m\u001b[43m,\u001b[49m\u001b[38;5;241;43m668\u001b[39;49m\u001b[43m,\u001b[49m\u001b[38;5;241;43m614\u001b[39;49m\u001b[43m,\u001b[49m\u001b[38;5;241;43m520\u001b[39;49m\u001b[43m,\u001b[49m\u001b[38;5;241;43m517\u001b[39;49m\u001b[43m,\u001b[49m\u001b[38;5;241;43m430\u001b[39;49m\u001b[43m]\u001b[49m\u001b[43m)\u001b[49m\n",
      "Cell \u001b[1;32mIn[65], line 16\u001b[0m, in \u001b[0;36misMountain\u001b[1;34m(height)\u001b[0m\n\u001b[0;32m     14\u001b[0m \u001b[38;5;66;03m# top_indexより後にtop_indexより大きい値がある場合、Falseを返す\u001b[39;00m\n\u001b[0;32m     15\u001b[0m \u001b[38;5;28;01mfor\u001b[39;00m i \u001b[38;5;129;01min\u001b[39;00m \u001b[38;5;28mrange\u001b[39m(top_index, l \u001b[38;5;241m-\u001b[39m top_index \u001b[38;5;241m+\u001b[39m \u001b[38;5;241m1\u001b[39m):\n\u001b[1;32m---> 16\u001b[0m     \u001b[38;5;28;01mif\u001b[39;00m height[i] \u001b[38;5;241m>\u001b[39m \u001b[43mheight\u001b[49m\u001b[43m[\u001b[49m\u001b[43mi\u001b[49m\u001b[43m \u001b[49m\u001b[38;5;241;43m+\u001b[39;49m\u001b[43m \u001b[49m\u001b[38;5;241;43m1\u001b[39;49m\u001b[43m]\u001b[49m:\n\u001b[0;32m     17\u001b[0m         \u001b[38;5;28;01mpass\u001b[39;00m\n\u001b[0;32m     18\u001b[0m     \u001b[38;5;28;01melse\u001b[39;00m:\n",
      "\u001b[1;31mIndexError\u001b[0m: list index out of range"
     ]
    }
   ],
   "source": [
    "def isMountain(height):\n",
    "    l = len(height)\n",
    "    if l <= 2: return False\n",
    "\n",
    "    # 末尾が最も大きい値の場合、Falseを返す\n",
    "    top_index = 0\n",
    "    while height[top_index] < height[top_index + 1]:\n",
    "        top_index += 1\n",
    "        if top_index == l-1: return False\n",
    "\n",
    "    # 先頭が最も大きい値の場合、Falseを返す\n",
    "    if top_index == 0: return False\n",
    "\n",
    "    # top_indexより後にtop_indexより大きい値がある場合、Falseを返す\n",
    "    for i in range(top_index, l - top_index + 1):\n",
    "        if height[i] > height[i + 1]:\n",
    "            pass\n",
    "        else:\n",
    "            return False\n",
    "    return True\n",
    "\n",
    "isMountain([203,992,970,872,697,668,614,520,517,430])"
   ]
  },
  {
   "cell_type": "code",
   "execution_count": null,
   "metadata": {},
   "outputs": [],
   "source": []
  }
 ],
 "metadata": {
  "kernelspec": {
   "display_name": ".venv",
   "language": "python",
   "name": "python3"
  },
  "language_info": {
   "codemirror_mode": {
    "name": "ipython",
    "version": 3
   },
   "file_extension": ".py",
   "mimetype": "text/x-python",
   "name": "python",
   "nbconvert_exporter": "python",
   "pygments_lexer": "ipython3",
   "version": "3.11.4"
  }
 },
 "nbformat": 4,
 "nbformat_minor": 2
}
