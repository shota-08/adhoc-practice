{
 "cells": [
  {
   "cell_type": "code",
   "execution_count": 19,
   "metadata": {},
   "outputs": [
    {
     "name": "stdout",
     "output_type": "stream",
     "text": [
      "[32, 4546, 34, 3]\n",
      "[3, 32, 34, 4546]\n"
     ]
    }
   ],
   "source": [
    "import math\n",
    "\n",
    "def merge(arr):\n",
    "    return mergeHelper(arr, 0, len(arr) - 1)\n",
    "\n",
    "def mergeHelper(arr, start, end):\n",
    "    # 再帰的に分割\n",
    "    if start == end:\n",
    "        return [arr[start]]\n",
    "\n",
    "    # 配列が2つ以上の時、leftArrayとrightArrayに分割\n",
    "    middle = math.floor((start + end) / 2)\n",
    "    leftArr = mergeHelper(arr, start, middle)\n",
    "    rightArr = mergeHelper(arr, middle + 1, end)\n",
    "\n",
    "    # leftArrとrightArrそれぞれの最後に無限大を設定\n",
    "    leftArr.append(math.inf)\n",
    "    rightArr.append(math.inf)\n",
    "\n",
    "    l = len(leftArr) + len(rightArr) - 2\n",
    "    li = 0\n",
    "    ri = 0\n",
    "\n",
    "    # 右と左をソート後、merge\n",
    "    merged = []\n",
    "\n",
    "    while (li + ri) < l:\n",
    "        if leftArr[li] <= rightArr[ri]:\n",
    "            merged.append(leftArr[li])\n",
    "            li = li + 1\n",
    "        else:\n",
    "            merged.append(rightArr[ri])\n",
    "            ri = ri + 1\n",
    "    return merged\n",
    "\n",
    "arr1 = [32,4546,34,3]\n",
    "print(arr1)\n",
    "print(merge(arr1))"
   ]
  },
  {
   "cell_type": "code",
   "execution_count": 29,
   "metadata": {},
   "outputs": [
    {
     "name": "stdout",
     "output_type": "stream",
     "text": [
      "[32, 4546, 34, 2, 3]\n",
      "a:2, 1\n",
      "a:1, 2\n",
      "g:[32], 2\n",
      "b:[32], 2\n",
      "g:[4546], 2\n",
      "c[4546], 2\n",
      "d:[], 2\n",
      "e:[32], 2\n",
      "f:[32, 4546], 2\n",
      "b:[32, 4546], 2\n",
      "a:1, 3\n",
      "g:[34], 3\n",
      "b:[34], 3\n",
      "a:1, 4\n",
      "g:[2], 4\n",
      "b:[2], 4\n",
      "g:[3], 4\n",
      "c[3], 4\n",
      "d:[], 4\n",
      "e:[2], 4\n",
      "f:[2, 3], 4\n",
      "c[2, 3], 4\n",
      "d:[], 4\n",
      "e:[2], 4\n",
      "d:[2], 4\n",
      "e:[2, 3], 4\n",
      "f:[2, 3, 34], 4\n",
      "c[2, 3, 34], 4\n",
      "d:[], 4\n",
      "e:[2], 4\n",
      "d:[2], 4\n",
      "e:[2, 3], 4\n",
      "d:[2, 3], 4\n",
      "e:[2, 3, 32], 4\n",
      "d:[2, 3, 32], 4\n",
      "e:[2, 3, 32, 34], 4\n",
      "f:[2, 3, 32, 34, 4546], 4\n",
      "[2, 3, 32, 34, 4546]\n"
     ]
    }
   ],
   "source": [
    "count = 0\n",
    "\n",
    "def merge_sort(x):\n",
    "    global count\n",
    "    retary = []\n",
    "    if len(x) <= 1:\n",
    "        print(f\"g:{x}, {count}\")\n",
    "        retary.extend(x)\n",
    "    else:\n",
    "        count += 1\n",
    "        m = len(x) // 2\n",
    "        print(f\"a:{m}, {count}\")\n",
    "        first = merge_sort(x[:m])\n",
    "        print(f\"b:{first}, {count}\")\n",
    "        second = merge_sort(x[m:])\n",
    "        print(f\"c{second}, {count}\")\n",
    "        while len(first) > 0 and len(second) > 0:\n",
    "            print(f\"d:{retary}, {count}\")\n",
    "            retary.append(first.pop(0) if first[0] < second[0] else second.pop(0))\n",
    "            print(f\"e:{retary}, {count}\")\n",
    "        retary.extend(first if len(first) > 0 else second)\n",
    "        print(f\"f:{retary}, {count}\")\n",
    "    return retary\n",
    "\n",
    "arr1 = [32, 4546, 34, 2, 3]\n",
    "print(arr1)\n",
    "print(merge_sort(arr1))"
   ]
  },
  {
   "cell_type": "code",
   "execution_count": null,
   "metadata": {},
   "outputs": [],
   "source": []
  }
 ],
 "metadata": {
  "kernelspec": {
   "display_name": ".venv",
   "language": "python",
   "name": "python3"
  },
  "language_info": {
   "codemirror_mode": {
    "name": "ipython",
    "version": 3
   },
   "file_extension": ".py",
   "mimetype": "text/x-python",
   "name": "python",
   "nbconvert_exporter": "python",
   "pygments_lexer": "ipython3",
   "version": "3.11.9"
  }
 },
 "nbformat": 4,
 "nbformat_minor": 2
}
