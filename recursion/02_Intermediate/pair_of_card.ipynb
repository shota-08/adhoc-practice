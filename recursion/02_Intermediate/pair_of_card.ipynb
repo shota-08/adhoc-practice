{
 "cells": [
  {
   "cell_type": "code",
   "execution_count": 1,
   "metadata": {},
   "outputs": [
    {
     "data": {
      "text/plain": [
       "[4, 7, 7, 12, 11]"
      ]
     },
     "execution_count": 1,
     "metadata": {},
     "output_type": "execute_result"
    }
   ],
   "source": [
    "def getPoint(cards):\n",
    "    markValue = {\"A\":14, \"J\":11, \"Q\":12, \"K\":13}\n",
    "    points = []\n",
    "    for card in cards:\n",
    "        if card[1] in markValue.keys():\n",
    "            value = markValue[card[1]]\n",
    "            points.append(value)\n",
    "        else:\n",
    "            points.append(int(card[1]))\n",
    "    return points\n",
    "\n",
    "getPoint([\"♣4\",\"♥7\",\"♥7\",\"♠Q\",\"♣J\"])"
   ]
  },
  {
   "cell_type": "code",
   "execution_count": 2,
   "metadata": {},
   "outputs": [
    {
     "data": {
      "text/plain": [
       "[(8, 1), (7, 1), (5, 1), (4, 1), (1, 1)]"
      ]
     },
     "execution_count": 2,
     "metadata": {},
     "output_type": "execute_result"
    }
   ],
   "source": [
    "def getPointCache(cards):\n",
    "    markValue = {\"A\":14, \"J\":11, \"Q\":12, \"K\":13}\n",
    "    points = []\n",
    "    cache = {}\n",
    "    for card in cards:\n",
    "        if card[1] in markValue.keys():\n",
    "            value = markValue[card[1]]\n",
    "            points.append(value)\n",
    "        else:\n",
    "            points.append(int(card[1]))\n",
    "    for point in points:\n",
    "        if point in cache:\n",
    "            cache[point] += 1\n",
    "        else:\n",
    "            cache[point] = 1\n",
    "    return cache\n",
    "\n",
    "cache1 = getPointCache([\"♥10\",\"♥8\",\"♣7\",\"♠4\",\"♦5\"])\n",
    "sorted_cache1 = sorted(cache1.items(), key=lambda x: (x[1], x[0]), reverse=True)\n",
    "sorted_cache1"
   ]
  },
  {
   "cell_type": "code",
   "execution_count": 4,
   "metadata": {},
   "outputs": [
    {
     "data": {
      "text/plain": [
       "'player2'"
      ]
     },
     "execution_count": 4,
     "metadata": {},
     "output_type": "execute_result"
    }
   ],
   "source": [
    "def getPointCache(cards):\n",
    "    markValue = {\"A\":14, \"J\":11, \"Q\":12, \"K\":13}\n",
    "    points = []\n",
    "    cache = {}\n",
    "    for card in cards:\n",
    "        if card[1] in markValue.keys():\n",
    "            value = markValue[card[1]]\n",
    "            points.append(value)\n",
    "        else:\n",
    "            points.append(int(card[1:]))\n",
    "    for point in points:\n",
    "        if point in cache:\n",
    "            cache[point] += 1\n",
    "        else:\n",
    "            cache[point] = 1\n",
    "    return cache\n",
    "\n",
    "def winnerPairOfCards(player1, player2):\n",
    "    cache1 = getPointCache(player1)\n",
    "    cache2 = getPointCache(player2)\n",
    "\n",
    "    sorted_cache1 = sorted(cache1.items(), key=lambda x: (x[1], x[0]), reverse=True)\n",
    "    sorted_cache2 = sorted(cache2.items(), key=lambda x: (x[1], x[0]), reverse=True)\n",
    "\n",
    "    for i in range(len(sorted_cache1)):\n",
    "        count1, value1 = sorted_cache1[i]\n",
    "        count2, value2 = sorted_cache2[i]\n",
    "        if value1 > value2:\n",
    "            return \"player1\"\n",
    "        elif value1 < value2:\n",
    "            return \"player2\"\n",
    "        elif count1 > count2:\n",
    "            return \"player1\"\n",
    "        elif count1 < count2:\n",
    "            return \"player2\"\n",
    "    return \"draw\"\n",
    "\n",
    "winnerPairOfCards([\"♣9\",\"♥8\",\"♥7\",\"♠4\",\"♣5\"],[\"♥10\",\"♥8\",\"♣7\",\"♠4\",\"♦5\"])"
   ]
  },
  {
   "cell_type": "code",
   "execution_count": null,
   "metadata": {},
   "outputs": [],
   "source": []
  }
 ],
 "metadata": {
  "kernelspec": {
   "display_name": ".venv",
   "language": "python",
   "name": "python3"
  },
  "language_info": {
   "codemirror_mode": {
    "name": "ipython",
    "version": 3
   },
   "file_extension": ".py",
   "mimetype": "text/x-python",
   "name": "python",
   "nbconvert_exporter": "python",
   "pygments_lexer": "ipython3",
   "version": "3.11.9"
  }
 },
 "nbformat": 4,
 "nbformat_minor": 2
}
