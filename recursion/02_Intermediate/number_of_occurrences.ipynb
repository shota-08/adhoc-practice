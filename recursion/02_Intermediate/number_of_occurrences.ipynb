{
 "cells": [
  {
   "cell_type": "code",
   "execution_count": 33,
   "metadata": {},
   "outputs": [
    {
     "data": {
      "text/plain": [
       "False"
      ]
     },
     "execution_count": 33,
     "metadata": {},
     "output_type": "execute_result"
    }
   ],
   "source": [
    "def findXTimes(teams):\n",
    "    char_list = []\n",
    "    cache = {}\n",
    "    for char in teams:\n",
    "        if char not in char_list:\n",
    "            char_list.append(char)\n",
    "    # return char_list\n",
    "    for char in char_list:\n",
    "        cache[char] = teams.count(char)\n",
    "    # return cache\n",
    "    count_list = []\n",
    "    for v in cache.values():\n",
    "        count_list.append(v)\n",
    "    # return count_list\n",
    "    for i in range(len(count_list) - 1):\n",
    "        if count_list[i] != count_list[i+1]:\n",
    "            return False\n",
    "    return True\n",
    "\n",
    "\n",
    "findXTimes(\"bacddc\")"
   ]
  },
  {
   "cell_type": "code",
   "execution_count": 36,
   "metadata": {},
   "outputs": [
    {
     "data": {
      "text/plain": [
       "False"
      ]
     },
     "execution_count": 36,
     "metadata": {},
     "output_type": "execute_result"
    }
   ],
   "source": [
    "def findXTimes(teams):\n",
    "    hashmap = {}\n",
    "    for i in range(len(teams)):\n",
    "        if teams[i] not in hashmap:\n",
    "            hashmap[teams[i]] = 1\n",
    "        else:\n",
    "            hashmap[teams[i]] += 1\n",
    "    return max(hashmap.values()) == min(hashmap.values())\n",
    "    # return hashmap\n",
    "\n",
    "findXTimes(\"bacddc\")"
   ]
  },
  {
   "cell_type": "code",
   "execution_count": 80,
   "metadata": {},
   "outputs": [
    {
     "name": "stdout",
     "output_type": "stream",
     "text": [
      "dict_keys(['b', 'a', 'c', 'd'])\n",
      "dict_keys(['b', 'a', 'c', 'd'])\n",
      "dict_keys(['b', 'a', 'c', 'd'])\n",
      "dict_keys(['b', 'a', 'c', 'd'])\n"
     ]
    }
   ],
   "source": [
    "cache = {'b': 1, 'a': 1, 'c': 1, 'd': 1}\n",
    "for i in cache.values():\n",
    "    if i == 1: print(cache.keys())"
   ]
  },
  {
   "cell_type": "code",
   "execution_count": 38,
   "metadata": {},
   "outputs": [
    {
     "data": {
      "text/plain": [
       "False"
      ]
     },
     "execution_count": 38,
     "metadata": {},
     "output_type": "execute_result"
    }
   ],
   "source": [
    "# 間違い\n",
    "def value_list(user):\n",
    "    hashmap = {}\n",
    "    for i in range(len(user)):\n",
    "        if user[i] not in hashmap:\n",
    "            hashmap[user[i]] = 1\n",
    "        else:\n",
    "            hashmap[user[i]] += 1\n",
    "    count_list = []\n",
    "    for v in hashmap.values():\n",
    "        count_list.append(v)\n",
    "    return count_list\n",
    "\n",
    "def hasSameType(user1,user2):\n",
    "    user1_list = value_list(user1)\n",
    "    user2_list = value_list(user2)\n",
    "    if len(user1_list) != len(user2_list):\n",
    "        return False\n",
    "    for i in range(len(user1_list)):\n",
    "        if user1_list[i] != user2_list[i]:\n",
    "            return False\n",
    "    return True\n",
    "\n",
    "hasSameType(\"aabb\",\"yyza\")"
   ]
  },
  {
   "cell_type": "code",
   "execution_count": 52,
   "metadata": {},
   "outputs": [
    {
     "data": {
      "text/plain": [
       "[2, 2, 3]"
      ]
     },
     "execution_count": 52,
     "metadata": {},
     "output_type": "execute_result"
    }
   ],
   "source": [
    "def value_list(user):\n",
    "    li = []\n",
    "    point = 1\n",
    "    for i in range(1, len(user)):\n",
    "        if user[i] == user[i-1]:\n",
    "            point += 1\n",
    "        else:\n",
    "            li.append(point)\n",
    "            point = 1\n",
    "    li.append(point)\n",
    "    return li\n",
    "\n",
    "value_list(\"aabbccc\")"
   ]
  },
  {
   "cell_type": "code",
   "execution_count": 76,
   "metadata": {},
   "outputs": [
    {
     "data": {
      "text/plain": [
       "False"
      ]
     },
     "execution_count": 76,
     "metadata": {},
     "output_type": "execute_result"
    }
   ],
   "source": [
    "def hasSameType(user1,user2):\n",
    "    # 文字列の長さが違う場合を最初に除きます。\n",
    "    if len(user1) != len(user2): return False\n",
    "    # ハッシュマップを作成します\n",
    "    hashmap = {}\n",
    "\n",
    "    res = ''\n",
    "\n",
    "    for i in range(len(user1)) :\n",
    "        # values() メソッドは、ハッシュマップの値だけを取り出します。\n",
    "        # user1,user2それぞれのi番目の文字が、どちらもハッシュマップにまだなかったら保存します。\n",
    "        if user1[i] not in hashmap and user2[i] not in hashmap.values(): hashmap[user1[i]] = user2[i]\n",
    "\n",
    "        # ハッシュマップのキーにuser1の要素が存在したら、その値をresに追加します。\n",
    "        if user1[i] in hashmap: res += hashmap[user1[i]]\n",
    "\n",
    "    return res == user2\n",
    "\n",
    "# hasSameType(\"aabb\",\"yyza\")\n",
    "hasSameType(\"aappl\",\"bbyyb\")"
   ]
  },
  {
   "cell_type": "code",
   "execution_count": 72,
   "metadata": {},
   "outputs": [
    {
     "data": {
      "text/plain": [
       "True"
      ]
     },
     "execution_count": 72,
     "metadata": {},
     "output_type": "execute_result"
    }
   ],
   "source": [
    "def value_list(user):\n",
    "    li = []\n",
    "    point = 1\n",
    "    for i in range(1, len(user)):\n",
    "        if user[i] == user[i-1]:\n",
    "            point += 1\n",
    "        else:\n",
    "            li.append(point)\n",
    "            point = 1\n",
    "    li.append(point)\n",
    "    return li\n",
    "\n",
    "def mapping_list(user):\n",
    "    hashmap = {}\n",
    "    for i in range(len(user)):\n",
    "        if user[i] not in hashmap:\n",
    "            hashmap[user[i]] = 1\n",
    "        else:\n",
    "            hashmap[user[i]] += 1\n",
    "    count_list = []\n",
    "    for v in hashmap.values():\n",
    "        count_list.append(v)\n",
    "    return count_list\n",
    "\n",
    "def hasSameType(user1,user2):\n",
    "    user1_val_list = value_list(user1)\n",
    "    user2_val_list = value_list(user2)\n",
    "    user1_map_list = mapping_list(user1)\n",
    "    user2_map_list = mapping_list(user2)\n",
    "    if len(user1_map_list) != len(user2_map_list):\n",
    "        return False\n",
    "    if len(user1_val_list) != len(user2_val_list):\n",
    "        return False\n",
    "    for i in range(len(user1_val_list)):\n",
    "        if user1_val_list[i] != user2_val_list[i]:\n",
    "            return False\n",
    "    return True\n",
    "\n",
    "hasSameType(\"ababb\",\"babaa\")"
   ]
  },
  {
   "cell_type": "code",
   "execution_count": 111,
   "metadata": {},
   "outputs": [
    {
     "name": "stdout",
     "output_type": "stream",
     "text": [
      "3 2\n"
     ]
    }
   ],
   "source": [
    "import math\n",
    "\n",
    "def middleSubstring(stringInput):\n",
    "    middle = len(stringInput) // 2\n",
    "    before = math.ceil(middle / 2)\n",
    "    return print(middle, before)\n",
    "\n",
    "middleSubstring(\"ABCDEFG\")"
   ]
  },
  {
   "cell_type": "code",
   "execution_count": 109,
   "metadata": {},
   "outputs": [
    {
     "data": {
      "text/plain": [
       "'DE'"
      ]
     },
     "execution_count": 109,
     "metadata": {},
     "output_type": "execute_result"
    }
   ],
   "source": [
    "s = \"ABCDE\"\n",
    "s[3:]"
   ]
  },
  {
   "cell_type": "code",
   "execution_count": null,
   "metadata": {},
   "outputs": [],
   "source": []
  }
 ],
 "metadata": {
  "kernelspec": {
   "display_name": ".venv",
   "language": "python",
   "name": "python3"
  },
  "language_info": {
   "codemirror_mode": {
    "name": "ipython",
    "version": 3
   },
   "file_extension": ".py",
   "mimetype": "text/x-python",
   "name": "python",
   "nbconvert_exporter": "python",
   "pygments_lexer": "ipython3",
   "version": "3.11.4"
  }
 },
 "nbformat": 4,
 "nbformat_minor": 2
}
