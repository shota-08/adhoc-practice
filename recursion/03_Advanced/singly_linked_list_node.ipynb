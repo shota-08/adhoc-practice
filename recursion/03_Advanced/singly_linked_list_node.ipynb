{
 "cells": [
  {
   "cell_type": "code",
   "execution_count": 1,
   "metadata": {},
   "outputs": [
    {
     "data": {
      "text/plain": [
       "<__main__.SinglyLinkedListNode at 0x1cd5bdada50>"
      ]
     },
     "execution_count": 1,
     "metadata": {},
     "output_type": "execute_result"
    }
   ],
   "source": [
    "class SinglyLinkedListNode:\n",
    "    def __init__(self, data):\n",
    "        self.data = data\n",
    "        self.next = None\n",
    "\n",
    "# 問題の趣旨は「既に定義済みのnodeクラス（つまり、データと次の参照を持つデータ構造）を用いて、配列を連結リスト化する」です\n",
    "# つまり、配列の各要素をnode化して、nextで参照する必要があります\n",
    "def getLinkedList(arr):\n",
    "    # 先頭のノードの定義\n",
    "    head = SinglyLinkedListNode(arr[0])\n",
    "\n",
    "    # この問題では最後に連結リストを返す必要があります。\n",
    "    # 連結リストの先頭のノードのアドレスは触らないようにコピーします\n",
    "    # そうしないと、for文の中で head=node1, head=node2, head=node3... みたいになってしまい、最後のノードの参照になってしまう\n",
    "    currentNode = head\n",
    "\n",
    "    for i in range(1, len(arr)):\n",
    "        # 現在のノードの次を設定\n",
    "        currentNode.next = SinglyLinkedListNode(arr[i])\n",
    "\n",
    "        # currentNodeをずらす\n",
    "        # ずらさないと、同じのノードの次をひたすら変更することになる\n",
    "        # for1回目 node1 -> node2\n",
    "        # for2回目 node1 -> node3\n",
    "        # for3回目 node1 -> node4\n",
    "        # ... みたいになってしまう\n",
    "        currentNode = currentNode.next\n",
    "\n",
    "    return head\n",
    "\n",
    "getLinkedList([3,2,1,5,6,4])"
   ]
  },
  {
   "cell_type": "code",
   "execution_count": null,
   "metadata": {},
   "outputs": [],
   "source": []
  }
 ],
 "metadata": {
  "kernelspec": {
   "display_name": ".venv",
   "language": "python",
   "name": "python3"
  },
  "language_info": {
   "codemirror_mode": {
    "name": "ipython",
    "version": 3
   },
   "file_extension": ".py",
   "mimetype": "text/x-python",
   "name": "python",
   "nbconvert_exporter": "python",
   "pygments_lexer": "ipython3",
   "version": "3.11.4"
  }
 },
 "nbformat": 4,
 "nbformat_minor": 2
}
