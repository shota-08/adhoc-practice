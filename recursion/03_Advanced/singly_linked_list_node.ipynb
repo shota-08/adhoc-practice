{
 "cells": [
  {
   "cell_type": "code",
   "execution_count": 1,
   "metadata": {},
   "outputs": [
    {
     "data": {
      "text/plain": [
       "<__main__.SinglyLinkedListNode at 0x1cd5bdada50>"
      ]
     },
     "execution_count": 1,
     "metadata": {},
     "output_type": "execute_result"
    }
   ],
   "source": [
    "class SinglyLinkedListNode:\n",
    "    def __init__(self, data):\n",
    "        self.data = data\n",
    "        self.next = None\n",
    "\n",
    "# 問題の趣旨は「既に定義済みのnodeクラス（つまり、データと次の参照を持つデータ構造）を用いて、配列を連結リスト化する」です\n",
    "# つまり、配列の各要素をnode化して、nextで参照する必要があります\n",
    "def getLinkedList(arr):\n",
    "    # 先頭のノードの定義\n",
    "    head = SinglyLinkedListNode(arr[0])\n",
    "\n",
    "    # この問題では最後に連結リストを返す必要があります。\n",
    "    # 連結リストの先頭のノードのアドレスは触らないようにコピーします\n",
    "    # そうしないと、for文の中で head=node1, head=node2, head=node3... みたいになってしまい、最後のノードの参照になってしまう\n",
    "    currentNode = head\n",
    "\n",
    "    for i in range(1, len(arr)):\n",
    "        # 現在のノードの次を設定\n",
    "        currentNode.next = SinglyLinkedListNode(arr[i])\n",
    "\n",
    "        # currentNodeをずらす\n",
    "        # ずらさないと、同じのノードの次をひたすら変更することになる\n",
    "        # for1回目 node1 -> node2\n",
    "        # for2回目 node1 -> node3\n",
    "        # for3回目 node1 -> node4\n",
    "        # ... みたいになってしまう\n",
    "        currentNode = currentNode.next\n",
    "\n",
    "    return head\n",
    "\n",
    "getLinkedList([3,2,1,5,6,4])"
   ]
  },
  {
   "cell_type": "code",
   "execution_count": 4,
   "metadata": {},
   "outputs": [
    {
     "name": "stdout",
     "output_type": "stream",
     "text": [
      "0\n"
     ]
    }
   ],
   "source": [
    "index = 1\n",
    "for i in range(index):\n",
    "    print(i)"
   ]
  },
  {
   "cell_type": "code",
   "execution_count": 1,
   "metadata": {},
   "outputs": [],
   "source": [
    "a = [{\"a\":1}]\n",
    "a += [{\"b\":2, \"c\":3}]"
   ]
  },
  {
   "cell_type": "code",
   "execution_count": 2,
   "metadata": {},
   "outputs": [
    {
     "data": {
      "text/plain": [
       "[{'a': 1}, {'b': 2, 'c': 3}]"
      ]
     },
     "execution_count": 2,
     "metadata": {},
     "output_type": "execute_result"
    }
   ],
   "source": [
    "a"
   ]
  },
  {
   "cell_type": "code",
   "execution_count": 3,
   "metadata": {},
   "outputs": [
    {
     "name": "stdout",
     "output_type": "stream",
     "text": [
      "[64, 64, 64, 34, 14, 353, 353, 353, 353, 63]\n"
     ]
    }
   ],
   "source": [
    "class Node:\n",
    "    def __init__(self, data):\n",
    "        self.data = data\n",
    "        self.prev = None\n",
    "        self.next = None\n",
    "\n",
    "class Deque:\n",
    "    def __init__(self):\n",
    "        self.head = None\n",
    "        self.tail = None\n",
    "\n",
    "    def peekFront(self):\n",
    "        if self.head == None: return None\n",
    "        return self.head.data\n",
    "\n",
    "    def peekBack(self):\n",
    "        if self.tail == None: return None\n",
    "        return self.tail.data\n",
    "\n",
    "    def enqueueFront(self,data):\n",
    "        if self.head == None:\n",
    "            self.head = Node(data)\n",
    "            self.tail = self.head\n",
    "        else:\n",
    "            node = Node(data)\n",
    "            self.head.prev = node\n",
    "            node.next = self.head\n",
    "            self.head = node\n",
    "\n",
    "    def enqueueBack(self,data):\n",
    "        if self.head == None:\n",
    "            self.head = Node(data)\n",
    "            self.tail = self.head\n",
    "        else:\n",
    "            node = Node(data)\n",
    "            self.tail.next = node\n",
    "            node.prev = self.tail\n",
    "            self.tail = node\n",
    "\n",
    "    def dequeueFront(self):\n",
    "        if self.head == None: return None\n",
    "\n",
    "        temp = self.head\n",
    "        self.head = self.head.next\n",
    "        if self.head is not None: self.head.prev = None\n",
    "        else: self.tail = None\n",
    "        return temp.data\n",
    "\n",
    "    def dequeueBack(self):\n",
    "        if self.tail == None: return None\n",
    "\n",
    "        temp = self.tail\n",
    "        self.tail = self.tail.prev\n",
    "\n",
    "        if self.tail is not None: self.tail.next = None\n",
    "        else: self.head = None\n",
    "        return temp.data\n",
    "\n",
    "\n",
    "def getMaxWindows(arr, k):\n",
    "    if k > len(arr): return []\n",
    "    result = []\n",
    "    deque = Deque()\n",
    "\n",
    "    # デキューの初期化\n",
    "    for i, num in enumerate(arr[:k]):\n",
    "        while deque.peekBack() is not None and arr[deque.peekBack()] <= num:\n",
    "            deque.dequeueBack()\n",
    "        deque.enqueueBack(i)\n",
    "\n",
    "    # ウィンドウのスライド\n",
    "    for i, num in enumerate(arr[k:], k):\n",
    "        result.append(arr[deque.peekFront()])\n",
    "        while deque.peekFront() is not None and deque.peekFront() <= i - k:\n",
    "            deque.dequeueFront()\n",
    "        while deque.peekBack() is not None and arr[deque.peekBack()] <= num:\n",
    "            deque.dequeueBack()\n",
    "        deque.enqueueBack(i)\n",
    "\n",
    "    result.append(arr[deque.peekFront()])\n",
    "    return result\n",
    "\n",
    "# ここから開発しましょう。\n",
    "print(getMaxWindows([34,35,64,34,10,2,14,5,353,23,35,63,23], 4))\n",
    "#[64, 64, 64, 34, 14, 353, 353, 353, 353, 63]"
   ]
  },
  {
   "cell_type": "code",
   "execution_count": 9,
   "metadata": {},
   "outputs": [
    {
     "name": "stdout",
     "output_type": "stream",
     "text": [
      "4 and 10\n",
      "5 and 2\n",
      "6 and 14\n",
      "7 and 5\n",
      "8 and 353\n",
      "9 and 23\n",
      "10 and 35\n",
      "11 and 63\n",
      "12 and 23\n"
     ]
    }
   ],
   "source": [
    "arr = [34,35,64,34,10,2,14,5,353,23,35,63,23]\n",
    "\n",
    "for i, num in enumerate(arr[4:], 4):\n",
    "    print(i, \"and\", num)\n"
   ]
  },
  {
   "cell_type": "code",
   "execution_count": 13,
   "metadata": {},
   "outputs": [
    {
     "name": "stdout",
     "output_type": "stream",
     "text": [
      "0\n",
      "1\n",
      "2\n",
      "2\n"
     ]
    }
   ],
   "source": [
    "class Node:\n",
    "    def __init__(self, data):\n",
    "        self.data = data\n",
    "        self.prev = None\n",
    "        self.next = None\n",
    "\n",
    "class Deque:\n",
    "    def __init__(self):\n",
    "        self.head = None\n",
    "        self.tail = None\n",
    "\n",
    "    def peekFront(self):\n",
    "        if self.head == None: return None\n",
    "        return self.head.data\n",
    "\n",
    "    def peekBack(self):\n",
    "        if self.tail == None: return None\n",
    "        return self.tail.data\n",
    "\n",
    "    def enqueueFront(self,data):\n",
    "        if self.head == None:\n",
    "            self.head = Node(data)\n",
    "            self.tail = self.head\n",
    "        else:\n",
    "            node = Node(data)\n",
    "            self.head.prev = node\n",
    "            node.next = self.head\n",
    "            self.head = node\n",
    "\n",
    "    def enqueueBack(self,data):\n",
    "        if self.head == None:\n",
    "            self.head = Node(data)\n",
    "            self.tail = self.head\n",
    "        else:\n",
    "            node = Node(data)\n",
    "            self.tail.next = node\n",
    "            node.prev = self.tail\n",
    "            self.tail = node\n",
    "\n",
    "    def dequeueFront(self):\n",
    "        if self.head == None: return None\n",
    "\n",
    "        temp = self.head\n",
    "        self.head = self.head.next\n",
    "        if self.head is not None: self.head.prev = None\n",
    "        else: self.tail = None\n",
    "        return temp.data\n",
    "\n",
    "    def dequeueBack(self):\n",
    "        if self.tail == None: return None\n",
    "\n",
    "        temp = self.tail\n",
    "        self.tail = self.tail.prev\n",
    "\n",
    "        if self.tail is not None: self.tail.next = None\n",
    "        else: self.head = None\n",
    "        return temp.data\n",
    "\n",
    "\n",
    "arr = [34,35,64,34,10,2,14,5,353,23,35,63,23]\n",
    "\n",
    "deque = Deque()\n",
    "\n",
    "# デキューの初期化\n",
    "for i, num in enumerate(arr[:4]):\n",
    "    while deque.peekBack() is not None and arr[deque.peekBack()] <= num:\n",
    "        deque.dequeueBack()\n",
    "    # print(i, \"and\", num)\n",
    "    deque.enqueueBack(i)\n",
    "    print(deque.peekFront())\n"
   ]
  },
  {
   "cell_type": "code",
   "execution_count": null,
   "metadata": {},
   "outputs": [],
   "source": []
  }
 ],
 "metadata": {
  "kernelspec": {
   "display_name": ".venv",
   "language": "python",
   "name": "python3"
  },
  "language_info": {
   "codemirror_mode": {
    "name": "ipython",
    "version": 3
   },
   "file_extension": ".py",
   "mimetype": "text/x-python",
   "name": "python",
   "nbconvert_exporter": "python",
   "pygments_lexer": "ipython3",
   "version": "3.11.4"
  }
 },
 "nbformat": 4,
 "nbformat_minor": 2
}
