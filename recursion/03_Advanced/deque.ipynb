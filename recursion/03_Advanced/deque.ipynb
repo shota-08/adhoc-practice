{
 "cells": [
  {
   "cell_type": "code",
   "execution_count": 1,
   "metadata": {},
   "outputs": [],
   "source": [
    "class Node:\n",
    "    def __init__(self, data):\n",
    "        self.data = data\n",
    "        self.prev = None\n",
    "        self.next = None\n",
    "\n",
    "class Deque:\n",
    "    def __init__(self):\n",
    "        self.head = None\n",
    "        self.tail = None\n",
    "\n",
    "    def peekFront(self):\n",
    "        if self.head == None: return None\n",
    "        return self.head.data\n",
    "\n",
    "    def peekBack(self):\n",
    "        if self.tail == None: return None\n",
    "        return self.tail.data\n",
    "\n",
    "    def enqueueFront(self,data):\n",
    "        if self.head == None:\n",
    "            self.head = Node(data)\n",
    "            self.tail = self.head\n",
    "        else:\n",
    "            node = Node(data)\n",
    "            self.head.prev = node\n",
    "            node.next = self.head\n",
    "            self.head = node\n",
    "\n",
    "    def enqueueBack(self,data):\n",
    "        if self.head == None:\n",
    "            self.head = Node(data)\n",
    "            self.tail = self.head\n",
    "        else:\n",
    "            node = Node(data)\n",
    "            self.tail.next = node\n",
    "            node.prev = self.tail\n",
    "            self.tail = node\n",
    "\n",
    "    def dequeueFront(self):\n",
    "        if self.head == None: return None\n",
    "\n",
    "        temp = self.head\n",
    "        self.head = self.head.next\n",
    "        if self.head is not None: self.head.prev = None\n",
    "        else: self.tail = None\n",
    "        return temp.data\n",
    "\n",
    "    def dequeueBack(self):\n",
    "        if self.tail == None: return None\n",
    "\n",
    "        temp = self.tail\n",
    "        self.tail = self.tail.prev\n",
    "\n",
    "        if self.tail is not None: self.tail.next = None\n",
    "        else: self.head = None\n",
    "        return temp.data"
   ]
  },
  {
   "cell_type": "code",
   "execution_count": 20,
   "metadata": {},
   "outputs": [
    {
     "name": "stdout",
     "output_type": "stream",
     "text": [
      "arr[:k]:  [34, 35, 64, 5]\n",
      "num:  34\n",
      "num:  35\n",
      "arr[deque.peekBack()] :  34\n",
      "num:  64\n",
      "arr[deque.peekBack()] :  35\n",
      "num:  5\n",
      "[64, 64, 64, 14, 14, 353, 353, 353, 353, 63]\n"
     ]
    }
   ],
   "source": [
    "def getMaxWindows(arr, k):\n",
    "    if k > len(arr): return []\n",
    "    result = []\n",
    "    deque = Deque()\n",
    "\n",
    "    # デキューの初期化\n",
    "    for i, num in enumerate(arr[:k]):\n",
    "        while deque.peekBack() is not None and arr[deque.peekBack()] <= num:\n",
    "            deque.dequeueBack()\n",
    "        deque.enqueueBack(i)\n",
    "\n",
    "    # ウィンドウのスライド\n",
    "    for i, num in enumerate(arr[k:], k):\n",
    "        result.append(arr[deque.peekFront()])\n",
    "        while deque.peekFront() is not None and deque.peekFront() <= i - k:\n",
    "            deque.dequeueFront()\n",
    "        while deque.peekBack() is not None and arr[deque.peekBack()] <= num:\n",
    "            deque.dequeueBack()\n",
    "        deque.enqueueBack(i)\n",
    "\n",
    "    result.append(arr[deque.peekFront()])\n",
    "    return result\n",
    "\n",
    "# ここから開発しましょう。\n",
    "print(getMaxWindows([34,35,64,5,10,2,14,5,353,23,35,63,23], 4))\n",
    "# [64, 64, 64, 34, 14, 353, 353, 353, 353, 63]"
   ]
  },
  {
   "cell_type": "code",
   "execution_count": 15,
   "metadata": {},
   "outputs": [
    {
     "name": "stdout",
     "output_type": "stream",
     "text": [
      "i : 4\n",
      "num:  10\n",
      "i : 5\n",
      "num:  2\n",
      "i : 6\n",
      "num:  14\n",
      "i : 7\n",
      "num:  5\n",
      "i : 8\n",
      "num:  353\n",
      "i : 9\n",
      "num:  23\n",
      "i : 10\n",
      "num:  35\n",
      "i : 11\n",
      "num:  63\n",
      "i : 12\n",
      "num:  23\n"
     ]
    }
   ],
   "source": [
    "arr = [34,35,64,5,10,2,14,5,353,23,35,63,23]\n",
    "\n",
    "for i, num in enumerate(arr[4:], 4):\n",
    "    print(\"i :\", i)\n",
    "    print(\"num: \", num)"
   ]
  },
  {
   "cell_type": "code",
   "execution_count": null,
   "metadata": {},
   "outputs": [],
   "source": []
  }
 ],
 "metadata": {
  "kernelspec": {
   "display_name": ".venv",
   "language": "python",
   "name": "python3"
  },
  "language_info": {
   "codemirror_mode": {
    "name": "ipython",
    "version": 3
   },
   "file_extension": ".py",
   "mimetype": "text/x-python",
   "name": "python",
   "nbconvert_exporter": "python",
   "pygments_lexer": "ipython3",
   "version": "3.11.9"
  }
 },
 "nbformat": 4,
 "nbformat_minor": 2
}
