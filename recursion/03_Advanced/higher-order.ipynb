{
 "cells": [
  {
   "cell_type": "code",
   "execution_count": 1,
   "metadata": {},
   "outputs": [
    {
     "name": "stdout",
     "output_type": "stream",
     "text": [
      "<function createPrintFn.<locals>.fn at 0x000001EC7C7D53A0>\n",
      "Hello!\n",
      "Hello!\n",
      "Hello!\n",
      "Hello!\n",
      "Hello!\n"
     ]
    }
   ],
   "source": [
    "# 呼び出し可能オブジェクトは出力として返すことができる。\n",
    "def createPrintFn(word) :\n",
    "   def fn() :\n",
    "      print(word)\n",
    "   return fn\n",
    "\n",
    "# 変数に格納することができる。\n",
    "callableFn = createPrintFn(\"Hello!\")\n",
    "\n",
    "# オブジェクトは下記の状態では実行されず、\n",
    "print(callableFn)\n",
    "\n",
    "# ()で実行されます\n",
    "callableFn()\n",
    "\n",
    "# 呼び出し可能オブジェクトは入力として渡すことができる。\n",
    "def repeat (times, fn) :\n",
    "   for i in range(0, times) :\n",
    "      fn()\n",
    "\n",
    "repeat(4, callableFn)"
   ]
  },
  {
   "cell_type": "code",
   "execution_count": null,
   "metadata": {},
   "outputs": [],
   "source": []
  }
 ],
 "metadata": {
  "kernelspec": {
   "display_name": ".venv",
   "language": "python",
   "name": "python3"
  },
  "language_info": {
   "codemirror_mode": {
    "name": "ipython",
    "version": 3
   },
   "file_extension": ".py",
   "mimetype": "text/x-python",
   "name": "python",
   "nbconvert_exporter": "python",
   "pygments_lexer": "ipython3",
   "version": "3.11.4"
  }
 },
 "nbformat": 4,
 "nbformat_minor": 2
}
