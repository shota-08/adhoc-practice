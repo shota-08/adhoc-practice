{
 "cells": [
  {
   "cell_type": "code",
   "execution_count": 18,
   "metadata": {},
   "outputs": [
    {
     "name": "stdout",
     "output_type": "stream",
     "text": [
      "2\n",
      "(8, [2, 3])\n"
     ]
    }
   ],
   "source": [
    "class Node:\n",
    "    def __init__(self, data):\n",
    "        self.data = data\n",
    "        self.prev = None\n",
    "        self.next = None\n",
    "\n",
    "class Queue:\n",
    "    def __init__(self):\n",
    "        self.head = None\n",
    "        self.tail = None\n",
    "\n",
    "    def peekFront(self):\n",
    "        if self.head is None: return None\n",
    "        return self.head.data\n",
    "\n",
    "    def peekBack(self):\n",
    "        if self.tail is None: return self.peekFront()\n",
    "        return self.tail.data\n",
    "\n",
    "    def enqueue(self, data):\n",
    "        if self.head is None:\n",
    "            self.head = Node(data)\n",
    "            self.tail = self.head\n",
    "        else:\n",
    "            self.tail.next = Node(data)\n",
    "            self.tail = self.tail.next\n",
    "\n",
    "    def dequeue(self):\n",
    "        if self.head is None: return None\n",
    "        temp = self.head\n",
    "        self.head = self.head.next\n",
    "        if self.head is None: self.tail = None\n",
    "        return temp.data\n",
    "\n",
    "def getScoreArr(arr):\n",
    "    result = [arr[0]]\n",
    "    queue = Queue()\n",
    "    queue.enqueue(arr[0])\n",
    "    score = 4\n",
    "\n",
    "    for i in range(1, len(arr)):\n",
    "        if queue.peekFront() is None or arr[i-1] <= arr[i]:\n",
    "            queue.enqueue(i)\n",
    "            score += 4\n",
    "            result.append(arr[i])\n",
    "            print(i)\n",
    "        else:\n",
    "            queue = Queue()\n",
    "            score = 4\n",
    "            result = []\n",
    "            result.append(arr[i])\n",
    "    return score, result\n",
    "\n",
    "print(getScoreArr([3,2,3]))\n",
    "\n",
    "# def diceStreakGamble(player1,player2,player3,player4):"
   ]
  },
  {
   "cell_type": "code",
   "execution_count": 15,
   "metadata": {},
   "outputs": [
    {
     "name": "stdout",
     "output_type": "stream",
     "text": [
      "1\n",
      "2\n"
     ]
    }
   ],
   "source": [
    "arr = [1,2,3]\n",
    "for i in range(1, len(arr)):\n",
    "    print(i)"
   ]
  },
  {
   "cell_type": "code",
   "execution_count": 22,
   "metadata": {},
   "outputs": [
    {
     "ename": "TypeError",
     "evalue": "sequence item 0: expected str instance, int found",
     "output_type": "error",
     "traceback": [
      "\u001b[1;31m---------------------------------------------------------------------------\u001b[0m",
      "\u001b[1;31mTypeError\u001b[0m                                 Traceback (most recent call last)",
      "Cell \u001b[1;32mIn[22], line 2\u001b[0m\n\u001b[0;32m      1\u001b[0m arr \u001b[38;5;241m=\u001b[39m [\u001b[38;5;241m1\u001b[39m,\u001b[38;5;241m2\u001b[39m,\u001b[38;5;241m3\u001b[39m]\n\u001b[1;32m----> 2\u001b[0m result \u001b[38;5;241m=\u001b[39m \u001b[38;5;124;43m\"\u001b[39;49m\u001b[38;5;124;43m,\u001b[39;49m\u001b[38;5;124;43m\"\u001b[39;49m\u001b[38;5;241;43m.\u001b[39;49m\u001b[43mjoin\u001b[49m\u001b[43m(\u001b[49m\u001b[43marr\u001b[49m\u001b[43m)\u001b[49m\n\u001b[0;32m      3\u001b[0m \u001b[38;5;28mprint\u001b[39m(result)\n",
      "\u001b[1;31mTypeError\u001b[0m: sequence item 0: expected str instance, int found"
     ]
    }
   ],
   "source": [
    "arr = [1,2,3]\n",
    "result = \",\".join(arr)"
   ]
  },
  {
   "cell_type": "code",
   "execution_count": 25,
   "metadata": {},
   "outputs": [],
   "source": [
    "def getScoreArr(arr):\n",
    "    result = [arr[0]]\n",
    "    score = 4\n",
    "\n",
    "    for i in range(1, len(arr)):\n",
    "        if arr[i-1] <= arr[i]:\n",
    "            score += 4\n",
    "            result.append(arr[i])\n",
    "        else:\n",
    "            score = 4\n",
    "            result = []\n",
    "            result.append(arr[i])\n",
    "    return score, result\n",
    "\n",
    "def diceStreakGamble(player1,player2,player3,player4):\n",
    "    players = [player1, player2, player3, player4]\n",
    "    bestScore = 0\n",
    "    bestResult = []\n",
    "    winner = 0\n",
    "\n",
    "    for idx, player in enumerate(players):\n",
    "        score, result = getScoreArr(player)\n",
    "        if score > bestScore:\n",
    "            bestScore = score\n",
    "            bestResult = result\n",
    "            winner = idx + 1\n",
    "    result = \",\".join(map(str, bestResult))\n",
    "\n",
    "    return f\"Winner: Player {winner} won ${bestScore} by rolling [{result}]\"\n"
   ]
  },
  {
   "cell_type": "code",
   "execution_count": 26,
   "metadata": {},
   "outputs": [
    {
     "data": {
      "text/plain": [
       "'Winner: Player 1 won $8 by rolling [1,4]'"
      ]
     },
     "execution_count": 26,
     "metadata": {},
     "output_type": "execute_result"
    }
   ],
   "source": [
    "diceStreakGamble([10,9,9,9,1,4],[10,9,9,9,1,4],[0,1,3,6,2,8],[1,2,2,1,0,1])"
   ]
  },
  {
   "cell_type": "markdown",
   "metadata": {},
   "source": [
    "入力: \n",
    "[10,9,9,9,1,4],[10,9,9,9,1,4],[0,1,3,6,2,8],[1,2,2,1,0,1]\n",
    "\n",
    "あなたの出力「stdout」 \n",
    "\"Winner: Player 4 won $12 by rolling [1,0,1]\"\n",
    "\n",
    "正しい出力「stdout」 \n",
    "\"Winner: Player 1 won $8 by rolling [1,4]\"\n",
    "\n",
    "コードを確認して、また挑戦しましょう。"
   ]
  },
  {
   "cell_type": "code",
   "execution_count": 32,
   "metadata": {},
   "outputs": [
    {
     "name": "stdout",
     "output_type": "stream",
     "text": [
      "<class 'str'>\n",
      "<class 'str'>\n"
     ]
    }
   ],
   "source": [
    "char = \"{}\"\n",
    "for i in char:\n",
    "    print(type(i))"
   ]
  },
  {
   "cell_type": "code",
   "execution_count": 31,
   "metadata": {},
   "outputs": [
    {
     "data": {
      "text/plain": [
       "'{'"
      ]
     },
     "execution_count": 31,
     "metadata": {},
     "output_type": "execute_result"
    }
   ],
   "source": [
    "hashmap = {\"}\":\"{\", \"]\":\"[\", \")\":\"(\"}\n",
    "hashmap[\"}\"]"
   ]
  },
  {
   "cell_type": "code",
   "execution_count": null,
   "metadata": {},
   "outputs": [],
   "source": []
  }
 ],
 "metadata": {
  "kernelspec": {
   "display_name": ".venv",
   "language": "python",
   "name": "python3"
  },
  "language_info": {
   "codemirror_mode": {
    "name": "ipython",
    "version": 3
   },
   "file_extension": ".py",
   "mimetype": "text/x-python",
   "name": "python",
   "nbconvert_exporter": "python",
   "pygments_lexer": "ipython3",
   "version": "3.11.4"
  }
 },
 "nbformat": 4,
 "nbformat_minor": 2
}
